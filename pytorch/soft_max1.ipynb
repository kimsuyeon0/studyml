{
  "nbformat": 4,
  "nbformat_minor": 0,
  "metadata": {
    "colab": {
      "name": "soft max1.ipynb",
      "version": "0.3.2",
      "provenance": [],
      "include_colab_link": true
    },
    "kernelspec": {
      "name": "python3",
      "display_name": "Python 3"
    }
  },
  "cells": [
    {
      "cell_type": "markdown",
      "metadata": {
        "id": "view-in-github",
        "colab_type": "text"
      },
      "source": [
        "<a href=\"https://colab.research.google.com/github/kimsuyeon0/studyml/blob/master/pytorch/soft_max1.ipynb\" target=\"_parent\"><img src=\"https://colab.research.google.com/assets/colab-badge.svg\" alt=\"Open In Colab\"/></a>"
      ]
    },
    {
      "metadata": {
        "id": "ingTAXbGAB9W",
        "colab_type": "code",
        "colab": {}
      },
      "cell_type": "code",
      "source": [
        "import torch\n",
        "import torch.nn as nn\n",
        "import torch.nn.functional as F\n",
        "import torch.optim as optim\n",
        "from torchvision import datasets, transforms\n",
        "from torch.autograd import Variable\n",
        "import numpy as np"
      ],
      "execution_count": 0,
      "outputs": []
    },
    {
      "metadata": {
        "id": "FJy_6pwUAeYG",
        "colab_type": "code",
        "colab": {
          "base_uri": "https://localhost:8080/",
          "height": 52
        },
        "outputId": "6926f039-a1d0-42ad-bbc4-e9047dfb9600"
      },
      "cell_type": "code",
      "source": [
        "Y = np.array([1, 0, 0])\n",
        "\n",
        "Y_pred1 = np.array([0.7, 0.2, 0.1])\n",
        "Y_pred2 = np.array([0.1, 0.3, 0.6])\n",
        "print(\"loss1 = \", np.sum(-Y * np.log(Y_pred1)))\n",
        "print(\"loss2 = \", np.sum(-Y * np.log(Y_pred2)))"
      ],
      "execution_count": 3,
      "outputs": [
        {
          "output_type": "stream",
          "text": [
            "loss1 =  0.35667494393873245\n",
            "loss2 =  2.3025850929940455\n"
          ],
          "name": "stdout"
        }
      ]
    },
    {
      "metadata": {
        "id": "iCGZYEyiAnzl",
        "colab_type": "code",
        "colab": {}
      },
      "cell_type": "code",
      "source": [
        "loss=nn.CrossEntropyLoss()"
      ],
      "execution_count": 0,
      "outputs": []
    },
    {
      "metadata": {
        "id": "GVgHb8ZAArkS",
        "colab_type": "code",
        "colab": {
          "base_uri": "https://localhost:8080/",
          "height": 88
        },
        "outputId": "f8494d84-69cf-4830-d8f0-d5ba90cf67f2"
      },
      "cell_type": "code",
      "source": [
        "Y=Variable(torch.LongTensor([0]), requires_grad=False)\n",
        "\n",
        "Y_pred1 = Variable(torch.Tensor([[2.0, 1.0, 0.1]]))\n",
        "Y_pred2 = Variable(torch.Tensor([[0.5, 2.0, 0.3]]))\n",
        "\n",
        "l1 = loss(Y_pred1, Y)\n",
        "l2 = loss(Y_pred2, Y)\n",
        "\n",
        "print(\"PyTorch Loss1 = \", l1.data, \"\\nPyTorch Loss2=\", l2.data)\n",
        "\n",
        "print(\"Y_pred1=\", torch.max(Y_pred1.data, 1)[1])\n",
        "print(\"Y_pred2=\", torch.max(Y_pred2.data, 1)[1])"
      ],
      "execution_count": 8,
      "outputs": [
        {
          "output_type": "stream",
          "text": [
            "PyTorch Loss1 =  tensor(0.4170) \n",
            "PyTorch Loss2= tensor(1.8406)\n",
            "Y_pred1= tensor([0])\n",
            "Y_pred2= tensor([1])\n"
          ],
          "name": "stdout"
        }
      ]
    },
    {
      "metadata": {
        "id": "2ST71mCPA_Hx",
        "colab_type": "code",
        "colab": {
          "base_uri": "https://localhost:8080/",
          "height": 52
        },
        "outputId": "0fd3330d-ea83-40b1-93b5-23cb7c8b55ba"
      },
      "cell_type": "code",
      "source": [
        "Y = Variable(torch.LongTensor([2, 0, 1]), requires_grad=False)\n",
        "\n",
        "Y_pred1 = Variable(torch.Tensor([[0.1, 0.2, 0.9],\n",
        "                                 [1.1, 0.1, 0.2],\n",
        "                                 [0.2, 2.1, 0.1]]))\n",
        "\n",
        "\n",
        "Y_pred2 = Variable(torch.Tensor([[0.8, 0.2, 0.3],\n",
        "                                 [0.2, 0.3, 0.5],\n",
        "                                 [0.2, 0.2, 0.5]]))\n",
        "\n",
        "l1 = loss(Y_pred1, Y)\n",
        "l2 = loss(Y_pred2, Y)\n",
        "\n",
        "print(\"Batch Loss1 = \", l1.data, \"\\nBatch Loss2=\", l2.data)"
      ],
      "execution_count": 9,
      "outputs": [
        {
          "output_type": "stream",
          "text": [
            "Batch Loss1 =  tensor(0.4966) \n",
            "Batch Loss2= tensor(1.2389)\n"
          ],
          "name": "stdout"
        }
      ]
    },
    {
      "metadata": {
        "id": "KjLfACtGBJKF",
        "colab_type": "code",
        "colab": {}
      },
      "cell_type": "code",
      "source": [
        ""
      ],
      "execution_count": 0,
      "outputs": []
    },
    {
      "metadata": {
        "id": "x6kyM5PeBJEh",
        "colab_type": "code",
        "colab": {}
      },
      "cell_type": "code",
      "source": [
        ""
      ],
      "execution_count": 0,
      "outputs": []
    }
  ]
}